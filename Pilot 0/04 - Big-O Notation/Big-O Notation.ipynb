{
 "cells": [
  {
   "cell_type": "code",
   "execution_count": 1,
   "metadata": {},
   "outputs": [],
   "source": [
    "# The problem\n",
    "def sun_numbers(n: int):\n",
    "    pass"
   ]
  },
  {
   "cell_type": "code",
   "execution_count": 2,
   "metadata": {},
   "outputs": [],
   "source": [
    "# Best case, average case and worst case\n",
    "# Different algorithms have different performance cases. You need to know and understand each\n"
   ]
  },
  {
   "cell_type": "code",
   "execution_count": 3,
   "metadata": {},
   "outputs": [],
   "source": [
    "#Quadratic omplexity - O(n^2) - Complexity is by a factor of the input\n",
    "def sum_numbers_soln1(n: int): \n",
    "    total = 0 \n",
    "    for i in range(n):\n",
    "        for j in range(n):\n",
    "            total+= i\n",
    "    return total"
   ]
  },
  {
   "cell_type": "code",
   "execution_count": 4,
   "metadata": {},
   "outputs": [],
   "source": [
    "#Linear complexity - O(n) - increases exactly the same number as the input\n",
    "# Describes an increase of the runtime relative to the input. Ratio 1:1\n",
    "# Space & time increases as input grows\n",
    "# Instructions are sent to the processor n number of times\n",
    "def sum_numbers_soln2(n: int): \n",
    "    total = 0 \n",
    "    for i in range(n):\n",
    "        for j in range(n):\n",
    "            total+= i\n",
    "    return total"
   ]
  },
  {
   "cell_type": "code",
   "execution_count": 5,
   "metadata": {},
   "outputs": [],
   "source": [
    "#Constant complexity - O(1)- is exactly the same number matter the size of the input\n",
    "def sum_numbers_soln0(n: int): \n",
    "    total = 0 \n",
    "    for i in range(n):\n",
    "        for j in range(n):\n",
    "            total+= i\n",
    "    return total"
   ]
  },
  {
   "cell_type": "code",
   "execution_count": null,
   "metadata": {},
   "outputs": [],
   "source": []
  }
 ],
 "metadata": {
  "kernelspec": {
   "display_name": "Python 3",
   "language": "python",
   "name": "python3"
  },
  "language_info": {
   "codemirror_mode": {
    "name": "ipython",
    "version": 3
   },
   "file_extension": ".py",
   "mimetype": "text/x-python",
   "name": "python",
   "nbconvert_exporter": "python",
   "pygments_lexer": "ipython3",
   "version": "3.8.5"
  }
 },
 "nbformat": 4,
 "nbformat_minor": 4
}
