{
 "cells": [
  {
   "cell_type": "markdown",
   "id": "specified-quest",
   "metadata": {},
   "source": [
    "# Application and  usages of queues\n",
    "- Message Queues \n",
    "- Process Scheduling \n",
    "- Data Buffers\n",
    "- In algorithims such as BFS & Round Robin algorithim"
   ]
  },
  {
   "cell_type": "code",
   "execution_count": null,
   "id": "necessary-blackberry",
   "metadata": {},
   "outputs": [],
   "source": []
  }
 ],
 "metadata": {
  "kernelspec": {
   "display_name": "Python 3",
   "language": "python",
   "name": "python3"
  },
  "language_info": {
   "codemirror_mode": {
    "name": "ipython",
    "version": 3
   },
   "file_extension": ".py",
   "mimetype": "text/x-python",
   "name": "python",
   "nbconvert_exporter": "python",
   "pygments_lexer": "ipython3",
   "version": "3.8.5"
  }
 },
 "nbformat": 4,
 "nbformat_minor": 5
}
