{
 "cells": [
  {
   "cell_type": "code",
   "execution_count": null,
   "metadata": {},
   "outputs": [],
   "source": [
    "#Linked Lists - Sequence of data structures connected together via links\n",
    "# Has nodes and uses pointers(addresses) to show the next values \n",
    "# You should have a data/value of any type and a pointer\n",
    "# One disadvantage of linked lists over arrays is that pointers also consume space unlike indexes\n",
    "# Insert front [constant time] unlike adding a value to the start of an array [O(n)]\n",
    "# Types of linked lists (Singly link list [forward], Doubly linked list [backward & forward])\n",
    "# You know that you have gotten to the last value when the pointer is null"
   ]
  }
 ],
 "metadata": {
  "kernelspec": {
   "display_name": "Python 3",
   "language": "python",
   "name": "python3"
  },
  "language_info": {
   "codemirror_mode": {
    "name": "ipython",
    "version": 3
   },
   "file_extension": ".py",
   "mimetype": "text/x-python",
   "name": "python",
   "nbconvert_exporter": "python",
   "pygments_lexer": "ipython3",
   "version": "3.8.5"
  }
 },
 "nbformat": 4,
 "nbformat_minor": 4
}
