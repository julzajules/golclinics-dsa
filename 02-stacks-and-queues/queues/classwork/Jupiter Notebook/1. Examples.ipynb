{
 "cells": [
  {
   "cell_type": "markdown",
   "id": "white-recognition",
   "metadata": {},
   "source": [
    "## Examples of Queues in real life\n",
    "- Bank queue\n",
    "- Huduma center queue\n",
    "- Metro shuttle queue\n"
   ]
  },
  {
   "cell_type": "markdown",
   "id": "martial-elimination",
   "metadata": {},
   "source": []
  }
 ],
 "metadata": {
  "kernelspec": {
   "display_name": "Python 3",
   "language": "python",
   "name": "python3"
  },
  "language_info": {
   "codemirror_mode": {
    "name": "ipython",
    "version": 3
   },
   "file_extension": ".py",
   "mimetype": "text/x-python",
   "name": "python",
   "nbconvert_exporter": "python",
   "pygments_lexer": "ipython3",
   "version": "3.8.5"
  }
 },
 "nbformat": 4,
 "nbformat_minor": 5
}
