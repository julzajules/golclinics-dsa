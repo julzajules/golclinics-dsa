{
 "cells": [
  {
   "cell_type": "code",
   "execution_count": 10,
   "metadata": {},
   "outputs": [
    {
     "name": "stdout",
     "output_type": "stream",
     "text": [
      "365\n"
     ]
    }
   ],
   "source": [
    "#Arrays\n",
    "\n",
    "temp = [0] * 365 # creating an array that contains 365, zeros\n",
    "arr_length = len(temp)\n",
    "print(arr_length)"
   ]
  },
  {
   "cell_type": "code",
   "execution_count": 11,
   "metadata": {},
   "outputs": [
    {
     "name": "stdout",
     "output_type": "stream",
     "text": [
      "15\n"
     ]
    }
   ],
   "source": [
    "temp [50] = 15 # inserting a record that on the 50th day, temp was 15\n",
    "print(temp[50])"
   ]
  },
  {
   "cell_type": "code",
   "execution_count": 15,
   "metadata": {},
   "outputs": [
    {
     "name": "stdout",
     "output_type": "stream",
     "text": [
      "365\n"
     ]
    }
   ],
   "source": [
    "temp += ['7'] # adding a value to the array\n",
    "print(arr_length)\n"
   ]
  },
  {
   "cell_type": "code",
   "execution_count": null,
   "metadata": {},
   "outputs": [],
   "source": [
    "# Data structure: Scheme of organizing related data items(sorting, searching, string processing/manipulation, graph problems,geometric & numerical problems)\n",
    "# Linear DS = Arrays, Strings, Queues\n",
    "# Graphs\n",
    "# Trees\n",
    "# Sets & Dictionaries\n",
    "\n",
    "# Divide and Conquer algorithms\n",
    "# 1. Sorting algorithms: Merge & Quick\n"
   ]
  }
 ],
 "metadata": {
  "kernelspec": {
   "display_name": "Python 3",
   "language": "python",
   "name": "python3"
  },
  "language_info": {
   "codemirror_mode": {
    "name": "ipython",
    "version": 3
   },
   "file_extension": ".py",
   "mimetype": "text/x-python",
   "name": "python",
   "nbconvert_exporter": "python",
   "pygments_lexer": "ipython3",
   "version": "3.8.5"
  }
 },
 "nbformat": 4,
 "nbformat_minor": 4
}